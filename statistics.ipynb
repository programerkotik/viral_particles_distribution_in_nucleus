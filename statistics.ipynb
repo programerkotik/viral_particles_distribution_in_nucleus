{
 "cells": [
  {
   "cell_type": "code",
   "execution_count": 1,
   "metadata": {
    "slideshow": {
     "slide_type": "skip"
    }
   },
   "outputs": [
    {
     "ename": "ModuleNotFoundError",
     "evalue": "No module named 'tifffile'",
     "output_type": "error",
     "traceback": [
      "\u001b[0;31m---------------------------------------------------------------------------\u001b[0m",
      "\u001b[0;31mModuleNotFoundError\u001b[0m                       Traceback (most recent call last)",
      "Cell \u001b[0;32mIn [1], line 6\u001b[0m\n\u001b[1;32m      4\u001b[0m \u001b[38;5;28;01mimport\u001b[39;00m \u001b[38;5;21;01mmatplotlib\u001b[39;00m\u001b[38;5;21;01m.\u001b[39;00m\u001b[38;5;21;01mpyplot\u001b[39;00m \u001b[38;5;28;01mas\u001b[39;00m \u001b[38;5;21;01mplt\u001b[39;00m\n\u001b[1;32m      5\u001b[0m \u001b[38;5;28;01mfrom\u001b[39;00m \u001b[38;5;21;01mpathlib\u001b[39;00m \u001b[38;5;28;01mimport\u001b[39;00m Path\n\u001b[0;32m----> 6\u001b[0m \u001b[38;5;28;01mfrom\u001b[39;00m \u001b[38;5;21;01mutils\u001b[39;00m \u001b[38;5;28;01mimport\u001b[39;00m \u001b[38;5;241m*\u001b[39m\n\u001b[1;32m      7\u001b[0m \u001b[38;5;28;01mimport\u001b[39;00m \u001b[38;5;21;01mos\u001b[39;00m\n",
      "File \u001b[0;32m~/Desktop/work/Brustikova_2022/utils.py:1\u001b[0m\n\u001b[0;32m----> 1\u001b[0m \u001b[38;5;28;01mfrom\u001b[39;00m \u001b[38;5;21;01mtifffile\u001b[39;00m \u001b[38;5;28;01mimport\u001b[39;00m imread\n\u001b[1;32m      2\u001b[0m \u001b[38;5;28;01mimport\u001b[39;00m \u001b[38;5;21;01mcv2\u001b[39;00m \u001b[38;5;28;01mas\u001b[39;00m \u001b[38;5;21;01mcv\u001b[39;00m\n\u001b[1;32m      3\u001b[0m \u001b[38;5;28;01mimport\u001b[39;00m \u001b[38;5;21;01mnumpy\u001b[39;00m \u001b[38;5;28;01mas\u001b[39;00m \u001b[38;5;21;01mnp\u001b[39;00m\n",
      "\u001b[0;31mModuleNotFoundError\u001b[0m: No module named 'tifffile'"
     ]
    }
   ],
   "source": [
    "import numpy as np\n",
    "import pandas as pd\n",
    "import seaborn as sns\n",
    "import matplotlib.pyplot as plt\n",
    "from pathlib import Path\n",
    "from utils import *\n",
    "import os"
   ]
  },
  {
   "cell_type": "code",
   "execution_count": 2,
   "metadata": {},
   "outputs": [
    {
     "data": {
      "text/html": [
       "<script>\n",
       "code_show=true; \n",
       "function code_toggle() {\n",
       " if (code_show){\n",
       " $('div.input').hide();\n",
       " } else {\n",
       " $('div.input').show();\n",
       " }\n",
       " code_show = !code_show\n",
       "} \n",
       "$( document ).ready(code_toggle);\n",
       "</script>\n",
       "<form action=\"javascript:code_toggle()\"><input type=\"submit\" value=\"Click here to toggle on/off the raw code.\"></form>"
      ],
      "text/plain": [
       "<IPython.core.display.HTML object>"
      ]
     },
     "execution_count": 2,
     "metadata": {},
     "output_type": "execute_result"
    }
   ],
   "source": [
    "from IPython.display import HTML\n",
    "\n",
    "HTML('''<script>\n",
    "code_show=true; \n",
    "function code_toggle() {\n",
    " if (code_show){\n",
    " $('div.input').hide();\n",
    " } else {\n",
    " $('div.input').show();\n",
    " }\n",
    " code_show = !code_show\n",
    "} \n",
    "$( document ).ready(code_toggle);\n",
    "</script>\n",
    "<form action=\"javascript:code_toggle()\"><input type=\"submit\" value=\"Click here to toggle on/off the raw code.\"></form>''')\n"
   ]
  },
  {
   "cell_type": "markdown",
   "metadata": {
    "slideshow": {
     "slide_type": "slide"
    }
   },
   "source": [
    "# Comparisons of distance means"
   ]
  },
  {
   "cell_type": "code",
   "execution_count": 130,
   "metadata": {
    "slideshow": {
     "slide_type": "skip"
    }
   },
   "outputs": [],
   "source": [
    "directory = 'statistics'\n",
    "name = '*.csv'\n",
    "\n",
    "data, groups = find_csv_directories(directory, name)"
   ]
  },
  {
   "cell_type": "code",
   "execution_count": 131,
   "metadata": {
    "slideshow": {
     "slide_type": "skip"
    }
   },
   "outputs": [],
   "source": [
    "# open each csv file in data as numpy array\n",
    "for d in data:\n",
    "    for i, f in enumerate(d):\n",
    "        d[i] = np.mean(np.genfromtxt(f, delimiter=','), axis=0)"
   ]
  },
  {
   "cell_type": "code",
   "execution_count": 132,
   "metadata": {
    "slideshow": {
     "slide_type": "skip"
    }
   },
   "outputs": [],
   "source": [
    "# from each array, take randomely only 16 samples\n",
    "sampled = []\n",
    "for d in data:\n",
    "    sampled.append(np.random.choice(d, 16, replace=False))"
   ]
  },
  {
   "cell_type": "code",
   "execution_count": 133,
   "metadata": {
    "slideshow": {
     "slide_type": "slide"
    }
   },
   "outputs": [
    {
     "data": {
      "text/html": [
       "<div>\n",
       "<style scoped>\n",
       "    .dataframe tbody tr th:only-of-type {\n",
       "        vertical-align: middle;\n",
       "    }\n",
       "\n",
       "    .dataframe tbody tr th {\n",
       "        vertical-align: top;\n",
       "    }\n",
       "\n",
       "    .dataframe thead th {\n",
       "        text-align: right;\n",
       "    }\n",
       "</style>\n",
       "<table border=\"1\" class=\"dataframe\">\n",
       "  <thead>\n",
       "    <tr style=\"text-align: right;\">\n",
       "      <th></th>\n",
       "      <th>poi_laminb</th>\n",
       "      <th>negative_ctrl</th>\n",
       "      <th>positive_ctrl</th>\n",
       "      <th>poi_laminac</th>\n",
       "    </tr>\n",
       "  </thead>\n",
       "  <tbody>\n",
       "    <tr>\n",
       "      <th>0</th>\n",
       "      <td>3.662109</td>\n",
       "      <td>2.014901</td>\n",
       "      <td>0.764715</td>\n",
       "      <td>1.903890</td>\n",
       "    </tr>\n",
       "    <tr>\n",
       "      <th>1</th>\n",
       "      <td>2.727935</td>\n",
       "      <td>1.631284</td>\n",
       "      <td>0.610235</td>\n",
       "      <td>2.657369</td>\n",
       "    </tr>\n",
       "    <tr>\n",
       "      <th>2</th>\n",
       "      <td>2.124270</td>\n",
       "      <td>2.780110</td>\n",
       "      <td>0.534277</td>\n",
       "      <td>2.319844</td>\n",
       "    </tr>\n",
       "    <tr>\n",
       "      <th>3</th>\n",
       "      <td>1.976306</td>\n",
       "      <td>4.428962</td>\n",
       "      <td>2.755372</td>\n",
       "      <td>0.744888</td>\n",
       "    </tr>\n",
       "    <tr>\n",
       "      <th>4</th>\n",
       "      <td>1.800760</td>\n",
       "      <td>3.183033</td>\n",
       "      <td>1.338249</td>\n",
       "      <td>0.731486</td>\n",
       "    </tr>\n",
       "    <tr>\n",
       "      <th>5</th>\n",
       "      <td>1.093914</td>\n",
       "      <td>2.418446</td>\n",
       "      <td>1.414913</td>\n",
       "      <td>2.158461</td>\n",
       "    </tr>\n",
       "    <tr>\n",
       "      <th>6</th>\n",
       "      <td>1.656078</td>\n",
       "      <td>3.267291</td>\n",
       "      <td>1.045379</td>\n",
       "      <td>1.841763</td>\n",
       "    </tr>\n",
       "    <tr>\n",
       "      <th>7</th>\n",
       "      <td>1.974413</td>\n",
       "      <td>1.857904</td>\n",
       "      <td>0.399968</td>\n",
       "      <td>2.952679</td>\n",
       "    </tr>\n",
       "    <tr>\n",
       "      <th>8</th>\n",
       "      <td>1.469557</td>\n",
       "      <td>4.689883</td>\n",
       "      <td>0.792748</td>\n",
       "      <td>1.327762</td>\n",
       "    </tr>\n",
       "    <tr>\n",
       "      <th>9</th>\n",
       "      <td>2.888312</td>\n",
       "      <td>3.936165</td>\n",
       "      <td>0.608399</td>\n",
       "      <td>2.709568</td>\n",
       "    </tr>\n",
       "    <tr>\n",
       "      <th>10</th>\n",
       "      <td>2.354600</td>\n",
       "      <td>3.286752</td>\n",
       "      <td>1.181616</td>\n",
       "      <td>1.130283</td>\n",
       "    </tr>\n",
       "    <tr>\n",
       "      <th>11</th>\n",
       "      <td>3.044023</td>\n",
       "      <td>1.441007</td>\n",
       "      <td>1.878152</td>\n",
       "      <td>2.292828</td>\n",
       "    </tr>\n",
       "    <tr>\n",
       "      <th>12</th>\n",
       "      <td>1.972633</td>\n",
       "      <td>4.568993</td>\n",
       "      <td>1.371987</td>\n",
       "      <td>2.514224</td>\n",
       "    </tr>\n",
       "    <tr>\n",
       "      <th>13</th>\n",
       "      <td>1.771197</td>\n",
       "      <td>2.355797</td>\n",
       "      <td>1.764519</td>\n",
       "      <td>1.700359</td>\n",
       "    </tr>\n",
       "    <tr>\n",
       "      <th>14</th>\n",
       "      <td>2.737144</td>\n",
       "      <td>4.612698</td>\n",
       "      <td>0.662301</td>\n",
       "      <td>0.909326</td>\n",
       "    </tr>\n",
       "    <tr>\n",
       "      <th>15</th>\n",
       "      <td>2.316984</td>\n",
       "      <td>3.677776</td>\n",
       "      <td>1.872735</td>\n",
       "      <td>1.245953</td>\n",
       "    </tr>\n",
       "  </tbody>\n",
       "</table>\n",
       "</div>"
      ],
      "text/plain": [
       "    poi_laminb  negative_ctrl  positive_ctrl  poi_laminac\n",
       "0     3.662109       2.014901       0.764715     1.903890\n",
       "1     2.727935       1.631284       0.610235     2.657369\n",
       "2     2.124270       2.780110       0.534277     2.319844\n",
       "3     1.976306       4.428962       2.755372     0.744888\n",
       "4     1.800760       3.183033       1.338249     0.731486\n",
       "5     1.093914       2.418446       1.414913     2.158461\n",
       "6     1.656078       3.267291       1.045379     1.841763\n",
       "7     1.974413       1.857904       0.399968     2.952679\n",
       "8     1.469557       4.689883       0.792748     1.327762\n",
       "9     2.888312       3.936165       0.608399     2.709568\n",
       "10    2.354600       3.286752       1.181616     1.130283\n",
       "11    3.044023       1.441007       1.878152     2.292828\n",
       "12    1.972633       4.568993       1.371987     2.514224\n",
       "13    1.771197       2.355797       1.764519     1.700359\n",
       "14    2.737144       4.612698       0.662301     0.909326\n",
       "15    2.316984       3.677776       1.872735     1.245953"
      ]
     },
     "execution_count": 133,
     "metadata": {},
     "output_type": "execute_result"
    }
   ],
   "source": [
    "# # convert data to pandas dataframe with columns names poi, pos, neg, random\n",
    "df = pd.DataFrame(np.array(sampled))\n",
    "df = df.T\n",
    "df.columns = groups\n",
    "df"
   ]
  },
  {
   "cell_type": "code",
   "execution_count": 134,
   "metadata": {
    "slideshow": {
     "slide_type": "skip"
    }
   },
   "outputs": [],
   "source": [
    "# save new csv with only means\n",
    "df.to_csv('statistics/distance_means_statistics.csv')"
   ]
  },
  {
   "cell_type": "code",
   "execution_count": 135,
   "metadata": {
    "slideshow": {
     "slide_type": "slide"
    }
   },
   "outputs": [
    {
     "data": {
      "image/png": "[encoded data removed]",
      "text/plain": [
       "<Figure size 432x288 with 1 Axes>"
      ]
     },
     "metadata": {
      "needs_background": "light"
     },
     "output_type": "display_data"
    }
   ],
   "source": [
    "# create a boxplot of the data include each data point as a dot\n",
    "sns.boxplot(data=df, palette=(\"Set2\"))\n",
    "sns.stripplot(data=df, color='black', size=3, alpha=0.5)\n",
    "# set y-axis label\n",
    "plt.ylabel('Distance means')\n",
    "plt.savefig('Distance_means.png')\n",
    "plt.show()"
   ]
  },
  {
   "cell_type": "markdown",
   "metadata": {},
   "source": [
    "### One-way ANOVA"
   ]
  },
  {
   "cell_type": "code",
   "execution_count": 136,
   "metadata": {},
   "outputs": [
    {
     "name": "stdout",
     "output_type": "stream",
     "text": [
      "f-value is 16.239903139327968, p_value is 7.687048715087841e-08\n"
     ]
    }
   ],
   "source": [
    "import scipy.stats as stats\n",
    "# stats f_oneway functions takes the groups as input and returns ANOVA F and p value\n",
    "fvalue, pvalue = stats.f_oneway(df['poi_laminb'], df['positive_ctrl'], df['negative_ctrl'], df['poi_laminac'])\n",
    "print(f'f-value is {fvalue}, p_value is {pvalue}')"
   ]
  },
  {
   "cell_type": "markdown",
   "metadata": {},
   "source": [
    "### Multiple comparisons"
   ]
  },
  {
   "cell_type": "code",
   "execution_count": 137,
   "metadata": {},
   "outputs": [
    {
     "name": "stdout",
     "output_type": "stream",
     "text": [
      "       Multiple Comparison of Means - Tukey HSD, FWER=0.05        \n",
      "==================================================================\n",
      "    group1        group2    meandiff p-adj   lower   upper  reject\n",
      "------------------------------------------------------------------\n",
      "negative_ctrl   poi_laminac  -1.3054  0.001 -1.8947 -0.7161   True\n",
      "negative_ctrl    poi_laminb  -1.0353  0.001 -1.6246 -0.4459   True\n",
      "negative_ctrl positive_ctrl  -1.9472  0.001 -2.6345   -1.26   True\n",
      "  poi_laminac    poi_laminb   0.2702 0.4438 -0.2013  0.7416  False\n",
      "  poi_laminac positive_ctrl  -0.6418 0.0272 -1.2311 -0.0525   True\n",
      "   poi_laminb positive_ctrl   -0.912  0.001 -1.5013 -0.3226   True\n",
      "------------------------------------------------------------------\n"
     ]
    }
   ],
   "source": [
    "from statsmodels.stats.multicomp import pairwise_tukeyhsd\n",
    "\n",
    "# reorganize dataframe to be only one column with a group specified in group_column\n",
    "\n",
    "values = []\n",
    "group = []\n",
    "\n",
    "for (d, g) in zip(data, groups):\n",
    "    values.extend(d)\n",
    "    group.extend(np.repeat(g, len(d)))\n",
    "\n",
    "df = pd.DataFrame({'values': values, 'group': group})\n",
    "\n",
    "# perform multiple pairwise comparison (Tukey HSD)\n",
    "m_comp = pairwise_tukeyhsd(endog=df['values'], groups=df['group'], alpha=0.05)\n",
    "print(m_comp)"
   ]
  },
  {
   "cell_type": "markdown",
   "metadata": {},
   "source": [
    "## 75th% percentile"
   ]
  },
  {
   "cell_type": "code",
   "execution_count": 138,
   "metadata": {},
   "outputs": [
    {
     "data": {
      "text/html": [
       "<div>\n",
       "<style scoped>\n",
       "    .dataframe tbody tr th:only-of-type {\n",
       "        vertical-align: middle;\n",
       "    }\n",
       "\n",
       "    .dataframe tbody tr th {\n",
       "        vertical-align: top;\n",
       "    }\n",
       "\n",
       "    .dataframe thead th {\n",
       "        text-align: right;\n",
       "    }\n",
       "</style>\n",
       "<table border=\"1\" class=\"dataframe\">\n",
       "  <thead>\n",
       "    <tr style=\"text-align: right;\">\n",
       "      <th></th>\n",
       "      <th>poi_laminb</th>\n",
       "      <th>negative_ctrl</th>\n",
       "      <th>positive_ctrl</th>\n",
       "      <th>poi_laminac</th>\n",
       "    </tr>\n",
       "  </thead>\n",
       "  <tbody>\n",
       "    <tr>\n",
       "      <th>0</th>\n",
       "      <td>3.337364</td>\n",
       "      <td>4.771142</td>\n",
       "      <td>0.771751</td>\n",
       "      <td>3.678614</td>\n",
       "    </tr>\n",
       "    <tr>\n",
       "      <th>1</th>\n",
       "      <td>3.760814</td>\n",
       "      <td>2.279890</td>\n",
       "      <td>1.807761</td>\n",
       "      <td>2.493512</td>\n",
       "    </tr>\n",
       "    <tr>\n",
       "      <th>2</th>\n",
       "      <td>3.297635</td>\n",
       "      <td>6.683412</td>\n",
       "      <td>3.037037</td>\n",
       "      <td>3.637032</td>\n",
       "    </tr>\n",
       "    <tr>\n",
       "      <th>3</th>\n",
       "      <td>2.132487</td>\n",
       "      <td>2.768465</td>\n",
       "      <td>2.784601</td>\n",
       "      <td>5.886085</td>\n",
       "    </tr>\n",
       "    <tr>\n",
       "      <th>4</th>\n",
       "      <td>3.228932</td>\n",
       "      <td>3.524472</td>\n",
       "      <td>0.721388</td>\n",
       "      <td>2.651490</td>\n",
       "    </tr>\n",
       "    <tr>\n",
       "      <th>5</th>\n",
       "      <td>6.548756</td>\n",
       "      <td>7.444139</td>\n",
       "      <td>4.781010</td>\n",
       "      <td>2.218468</td>\n",
       "    </tr>\n",
       "    <tr>\n",
       "      <th>6</th>\n",
       "      <td>5.011427</td>\n",
       "      <td>6.722916</td>\n",
       "      <td>0.260000</td>\n",
       "      <td>1.650604</td>\n",
       "    </tr>\n",
       "    <tr>\n",
       "      <th>7</th>\n",
       "      <td>1.816040</td>\n",
       "      <td>3.737900</td>\n",
       "      <td>0.300000</td>\n",
       "      <td>3.564183</td>\n",
       "    </tr>\n",
       "    <tr>\n",
       "      <th>8</th>\n",
       "      <td>4.140193</td>\n",
       "      <td>2.663025</td>\n",
       "      <td>1.050524</td>\n",
       "      <td>1.100000</td>\n",
       "    </tr>\n",
       "    <tr>\n",
       "      <th>9</th>\n",
       "      <td>4.526146</td>\n",
       "      <td>7.425624</td>\n",
       "      <td>0.460000</td>\n",
       "      <td>2.560937</td>\n",
       "    </tr>\n",
       "    <tr>\n",
       "      <th>10</th>\n",
       "      <td>3.561404</td>\n",
       "      <td>4.942560</td>\n",
       "      <td>1.656229</td>\n",
       "      <td>2.552247</td>\n",
       "    </tr>\n",
       "    <tr>\n",
       "      <th>11</th>\n",
       "      <td>1.385929</td>\n",
       "      <td>4.013677</td>\n",
       "      <td>0.362204</td>\n",
       "      <td>4.659152</td>\n",
       "    </tr>\n",
       "    <tr>\n",
       "      <th>12</th>\n",
       "      <td>4.120437</td>\n",
       "      <td>5.696394</td>\n",
       "      <td>0.233238</td>\n",
       "      <td>1.800444</td>\n",
       "    </tr>\n",
       "    <tr>\n",
       "      <th>13</th>\n",
       "      <td>5.393478</td>\n",
       "      <td>4.642736</td>\n",
       "      <td>0.382099</td>\n",
       "      <td>1.384919</td>\n",
       "    </tr>\n",
       "    <tr>\n",
       "      <th>14</th>\n",
       "      <td>2.424665</td>\n",
       "      <td>5.456189</td>\n",
       "      <td>3.043975</td>\n",
       "      <td>1.925201</td>\n",
       "    </tr>\n",
       "    <tr>\n",
       "      <th>15</th>\n",
       "      <td>2.392467</td>\n",
       "      <td>5.167475</td>\n",
       "      <td>1.046518</td>\n",
       "      <td>0.903982</td>\n",
       "    </tr>\n",
       "  </tbody>\n",
       "</table>\n",
       "</div>"
      ],
      "text/plain": [
       "    poi_laminb  negative_ctrl  positive_ctrl  poi_laminac\n",
       "0     3.337364       4.771142       0.771751     3.678614\n",
       "1     3.760814       2.279890       1.807761     2.493512\n",
       "2     3.297635       6.683412       3.037037     3.637032\n",
       "3     2.132487       2.768465       2.784601     5.886085\n",
       "4     3.228932       3.524472       0.721388     2.651490\n",
       "5     6.548756       7.444139       4.781010     2.218468\n",
       "6     5.011427       6.722916       0.260000     1.650604\n",
       "7     1.816040       3.737900       0.300000     3.564183\n",
       "8     4.140193       2.663025       1.050524     1.100000\n",
       "9     4.526146       7.425624       0.460000     2.560937\n",
       "10    3.561404       4.942560       1.656229     2.552247\n",
       "11    1.385929       4.013677       0.362204     4.659152\n",
       "12    4.120437       5.696394       0.233238     1.800444\n",
       "13    5.393478       4.642736       0.382099     1.384919\n",
       "14    2.424665       5.456189       3.043975     1.925201\n",
       "15    2.392467       5.167475       1.046518     0.903982"
      ]
     },
     "execution_count": 138,
     "metadata": {},
     "output_type": "execute_result"
    }
   ],
   "source": [
    "directory = 'statistics'\n",
    "name = '*.csv'\n",
    "\n",
    "data, groups = find_csv_directories(directory, name)\n",
    "\n",
    "# open each csv file in data as numpy array\n",
    "for d in data:\n",
    "    for i, f in enumerate(d):\n",
    "        d[i] = np.percentile(np.genfromtxt(f, delimiter=','), 75,  axis=0)\n",
    "\n",
    "# from each array, take randomely only 16 samples\n",
    "sampled = []\n",
    "for d in data:\n",
    "    sampled.append(np.random.choice(d, 16, replace=False))\n",
    "# # convert data to pandas dataframe with columns names poi, pos, neg, random\n",
    "df = pd.DataFrame(np.array(sampled))\n",
    "df = df.T\n",
    "df.columns = groups\n",
    "df"
   ]
  },
  {
   "cell_type": "code",
   "execution_count": 139,
   "metadata": {},
   "outputs": [
    {
     "data": {
      "image/png": "[encoded data removed]",
      "text/plain": [
       "<Figure size 432x288 with 1 Axes>"
      ]
     },
     "metadata": {
      "needs_background": "light"
     },
     "output_type": "display_data"
    }
   ],
   "source": [
    "# create a boxplot of the data include each data point as a dot\n",
    "sns.boxplot(data=df, palette=(\"Set2\"))\n",
    "sns.stripplot(data=df, color='black', size=3, alpha=0.5)\n",
    "# set y-axis label\n",
    "plt.ylabel('Distance 75th% percentile')\n",
    "plt.savefig('Distance_percentile.png')\n",
    "plt.show()"
   ]
  },
  {
   "cell_type": "markdown",
   "metadata": {},
   "source": [
    "### One-way ANOVA"
   ]
  },
  {
   "cell_type": "code",
   "execution_count": 140,
   "metadata": {},
   "outputs": [
    {
     "name": "stdout",
     "output_type": "stream",
     "text": [
      "f-value is 16.50758081328351, p_value is 6.1901108620352e-08\n"
     ]
    }
   ],
   "source": [
    "import scipy.stats as stats\n",
    "# stats f_oneway functions takes the groups as input and returns ANOVA F and p value\n",
    "fvalue, pvalue = stats.f_oneway(df['poi_laminb'], df['positive_ctrl'], df['negative_ctrl'], df['poi_laminac'])\n",
    "print(f'f-value is {fvalue}, p_value is {pvalue}')"
   ]
  },
  {
   "cell_type": "markdown",
   "metadata": {},
   "source": [
    "### Multiple comparisons"
   ]
  },
  {
   "cell_type": "code",
   "execution_count": 141,
   "metadata": {},
   "outputs": [
    {
     "name": "stdout",
     "output_type": "stream",
     "text": [
      "       Multiple Comparison of Means - Tukey HSD, FWER=0.05        \n",
      "==================================================================\n",
      "    group1        group2    meandiff p-adj   lower   upper  reject\n",
      "------------------------------------------------------------------\n",
      "negative_ctrl   poi_laminac  -2.1483  0.001 -3.1915  -1.105   True\n",
      "negative_ctrl    poi_laminb  -1.6746  0.001 -2.7179 -0.6314   True\n",
      "negative_ctrl positive_ctrl  -3.4526  0.001 -4.6692  -2.236   True\n",
      "  poi_laminac    poi_laminb   0.4737 0.4524 -0.3609  1.3082  False\n",
      "  poi_laminac positive_ctrl  -1.3043  0.008 -2.3476 -0.2611   True\n",
      "   poi_laminb positive_ctrl   -1.778  0.001 -2.8212 -0.7347   True\n",
      "------------------------------------------------------------------\n"
     ]
    }
   ],
   "source": [
    "from statsmodels.stats.multicomp import pairwise_tukeyhsd\n",
    "\n",
    "# reorganize dataframe to be only one column with a group specified in group_column\n",
    "\n",
    "values = []\n",
    "group = []\n",
    "\n",
    "for (d, g) in zip(data, groups):\n",
    "    values.extend(d)\n",
    "    group.extend(np.repeat(g, len(d)))\n",
    "\n",
    "df = pd.DataFrame({'values': values, 'group': group})\n",
    "\n",
    "# perform multiple pairwise comparison (Tukey HSD)\n",
    "m_comp = pairwise_tukeyhsd(endog=df['values'], groups=df['group'], alpha=0.05)\n",
    "print(m_comp)"
   ]
  },
  {
   "cell_type": "markdown",
   "metadata": {},
   "source": [
    "## Percentage below 0.5 micrometers"
   ]
  },
  {
   "cell_type": "code",
   "execution_count": 142,
   "metadata": {},
   "outputs": [
    {
     "data": {
      "text/html": [
       "<div>\n",
       "<style scoped>\n",
       "    .dataframe tbody tr th:only-of-type {\n",
       "        vertical-align: middle;\n",
       "    }\n",
       "\n",
       "    .dataframe tbody tr th {\n",
       "        vertical-align: top;\n",
       "    }\n",
       "\n",
       "    .dataframe thead th {\n",
       "        text-align: right;\n",
       "    }\n",
       "</style>\n",
       "<table border=\"1\" class=\"dataframe\">\n",
       "  <thead>\n",
       "    <tr style=\"text-align: right;\">\n",
       "      <th></th>\n",
       "      <th>poi_laminb</th>\n",
       "      <th>negative_ctrl</th>\n",
       "      <th>positive_ctrl</th>\n",
       "      <th>poi_laminac</th>\n",
       "    </tr>\n",
       "  </thead>\n",
       "  <tbody>\n",
       "    <tr>\n",
       "      <th>0</th>\n",
       "      <td>0.377140</td>\n",
       "      <td>0.190089</td>\n",
       "      <td>0.628158</td>\n",
       "      <td>0.276836</td>\n",
       "    </tr>\n",
       "    <tr>\n",
       "      <th>1</th>\n",
       "      <td>0.232452</td>\n",
       "      <td>0.042066</td>\n",
       "      <td>0.770862</td>\n",
       "      <td>0.215146</td>\n",
       "    </tr>\n",
       "    <tr>\n",
       "      <th>2</th>\n",
       "      <td>0.461290</td>\n",
       "      <td>0.562551</td>\n",
       "      <td>0.789367</td>\n",
       "      <td>0.557704</td>\n",
       "    </tr>\n",
       "    <tr>\n",
       "      <th>3</th>\n",
       "      <td>0.200201</td>\n",
       "      <td>0.332280</td>\n",
       "      <td>0.453770</td>\n",
       "      <td>0.235475</td>\n",
       "    </tr>\n",
       "    <tr>\n",
       "      <th>4</th>\n",
       "      <td>0.314833</td>\n",
       "      <td>0.266863</td>\n",
       "      <td>0.664387</td>\n",
       "      <td>0.571429</td>\n",
       "    </tr>\n",
       "    <tr>\n",
       "      <th>5</th>\n",
       "      <td>0.364700</td>\n",
       "      <td>0.411492</td>\n",
       "      <td>0.868004</td>\n",
       "      <td>0.530007</td>\n",
       "    </tr>\n",
       "    <tr>\n",
       "      <th>6</th>\n",
       "      <td>0.463196</td>\n",
       "      <td>0.350027</td>\n",
       "      <td>0.519929</td>\n",
       "      <td>0.260399</td>\n",
       "    </tr>\n",
       "    <tr>\n",
       "      <th>7</th>\n",
       "      <td>0.389967</td>\n",
       "      <td>0.037555</td>\n",
       "      <td>0.467753</td>\n",
       "      <td>0.278102</td>\n",
       "    </tr>\n",
       "    <tr>\n",
       "      <th>8</th>\n",
       "      <td>0.583981</td>\n",
       "      <td>0.107013</td>\n",
       "      <td>0.518865</td>\n",
       "      <td>0.239724</td>\n",
       "    </tr>\n",
       "    <tr>\n",
       "      <th>9</th>\n",
       "      <td>0.462170</td>\n",
       "      <td>0.078753</td>\n",
       "      <td>0.802189</td>\n",
       "      <td>0.425638</td>\n",
       "    </tr>\n",
       "    <tr>\n",
       "      <th>10</th>\n",
       "      <td>0.302827</td>\n",
       "      <td>0.172121</td>\n",
       "      <td>0.671647</td>\n",
       "      <td>0.378323</td>\n",
       "    </tr>\n",
       "    <tr>\n",
       "      <th>11</th>\n",
       "      <td>0.513465</td>\n",
       "      <td>0.402783</td>\n",
       "      <td>0.781287</td>\n",
       "      <td>0.245203</td>\n",
       "    </tr>\n",
       "    <tr>\n",
       "      <th>12</th>\n",
       "      <td>0.377164</td>\n",
       "      <td>0.135000</td>\n",
       "      <td>0.844629</td>\n",
       "      <td>0.375172</td>\n",
       "    </tr>\n",
       "    <tr>\n",
       "      <th>13</th>\n",
       "      <td>0.376933</td>\n",
       "      <td>0.070471</td>\n",
       "      <td>0.703030</td>\n",
       "      <td>0.413922</td>\n",
       "    </tr>\n",
       "    <tr>\n",
       "      <th>14</th>\n",
       "      <td>0.441737</td>\n",
       "      <td>0.148036</td>\n",
       "      <td>0.638026</td>\n",
       "      <td>0.552803</td>\n",
       "    </tr>\n",
       "    <tr>\n",
       "      <th>15</th>\n",
       "      <td>0.439341</td>\n",
       "      <td>0.266608</td>\n",
       "      <td>0.614860</td>\n",
       "      <td>0.212382</td>\n",
       "    </tr>\n",
       "  </tbody>\n",
       "</table>\n",
       "</div>"
      ],
      "text/plain": [
       "    poi_laminb  negative_ctrl  positive_ctrl  poi_laminac\n",
       "0     0.377140       0.190089       0.628158     0.276836\n",
       "1     0.232452       0.042066       0.770862     0.215146\n",
       "2     0.461290       0.562551       0.789367     0.557704\n",
       "3     0.200201       0.332280       0.453770     0.235475\n",
       "4     0.314833       0.266863       0.664387     0.571429\n",
       "5     0.364700       0.411492       0.868004     0.530007\n",
       "6     0.463196       0.350027       0.519929     0.260399\n",
       "7     0.389967       0.037555       0.467753     0.278102\n",
       "8     0.583981       0.107013       0.518865     0.239724\n",
       "9     0.462170       0.078753       0.802189     0.425638\n",
       "10    0.302827       0.172121       0.671647     0.378323\n",
       "11    0.513465       0.402783       0.781287     0.245203\n",
       "12    0.377164       0.135000       0.844629     0.375172\n",
       "13    0.376933       0.070471       0.703030     0.413922\n",
       "14    0.441737       0.148036       0.638026     0.552803\n",
       "15    0.439341       0.266608       0.614860     0.212382"
      ]
     },
     "execution_count": 142,
     "metadata": {},
     "output_type": "execute_result"
    }
   ],
   "source": [
    "directory = 'statistics'\n",
    "name = '*.csv'\n",
    "\n",
    "data, groups = find_csv_directories(directory, name)\n",
    "\n",
    "# open each csv file in data as numpy array\n",
    "for d in data:\n",
    "    for i, f in enumerate(d):\n",
    "        arr = np.genfromtxt(f, delimiter=',')\n",
    "        # compute percent of data folling below some value in arr\n",
    "        d[i] = np.sum(arr < 0.5) / len(arr)\n",
    "        \n",
    "# from each array, take randomely only 16 samples\n",
    "sampled = []\n",
    "for d in data:\n",
    "    sampled.append(np.random.choice(d, 16, replace=False))\n",
    "# # convert data to pandas dataframe with columns names poi, pos, neg, random\n",
    "df = pd.DataFrame(np.array(sampled))\n",
    "df = df.T\n",
    "df.columns = groups\n",
    "df"
   ]
  },
  {
   "cell_type": "code",
   "execution_count": 143,
   "metadata": {},
   "outputs": [
    {
     "data": {
      "image/png": "[encoded data removed]",
      "text/plain": [
       "<Figure size 432x288 with 1 Axes>"
      ]
     },
     "metadata": {
      "needs_background": "light"
     },
     "output_type": "display_data"
    }
   ],
   "source": [
    "# create a boxplot of the data include each data point as a dot\n",
    "sns.boxplot(data=df, palette=(\"Set2\"))\n",
    "sns.stripplot(data=df, color='black', size=3, alpha=0.5)\n",
    "# set y-axis label\n",
    "plt.ylabel('Percent of data below 0.5')\n",
    "plt.savefig('Distance_percent_below_0.5.png')\n",
    "plt.show()"
   ]
  },
  {
   "cell_type": "markdown",
   "metadata": {
    "slideshow": {
     "slide_type": "subslide"
    }
   },
   "source": [
    "### One-way ANOVA"
   ]
  },
  {
   "cell_type": "code",
   "execution_count": 144,
   "metadata": {
    "slideshow": {
     "slide_type": "slide"
    }
   },
   "outputs": [
    {
     "name": "stdout",
     "output_type": "stream",
     "text": [
      "f-value is 32.62743357134904, p_value is 1.2340629906338222e-12\n"
     ]
    }
   ],
   "source": [
    "import scipy.stats as stats\n",
    "# stats f_oneway functions takes the groups as input and returns ANOVA F and p value\n",
    "fvalue, pvalue = stats.f_oneway(df['poi_laminb'], df['positive_ctrl'], df['negative_ctrl'], df['poi_laminac'])\n",
    "print(f'f-value is {fvalue}, p_value is {pvalue}')"
   ]
  },
  {
   "cell_type": "markdown",
   "metadata": {
    "slideshow": {
     "slide_type": "subslide"
    }
   },
   "source": [
    "### Multiple comparisons test"
   ]
  },
  {
   "cell_type": "code",
   "execution_count": 145,
   "metadata": {
    "slideshow": {
     "slide_type": "slide"
    }
   },
   "outputs": [
    {
     "name": "stdout",
     "output_type": "stream",
     "text": [
      "       Multiple Comparison of Means - Tukey HSD, FWER=0.05       \n",
      "=================================================================\n",
      "    group1        group2    meandiff p-adj   lower  upper  reject\n",
      "-----------------------------------------------------------------\n",
      "negative_ctrl   poi_laminac   0.1505  0.001  0.0507 0.2503   True\n",
      "negative_ctrl    poi_laminb   0.1397 0.0023  0.0399 0.2395   True\n",
      "negative_ctrl positive_ctrl   0.4477  0.001  0.3313 0.5641   True\n",
      "  poi_laminac    poi_laminb  -0.0108    0.9 -0.0906 0.0691  False\n",
      "  poi_laminac positive_ctrl   0.2972  0.001  0.1974  0.397   True\n",
      "   poi_laminb positive_ctrl    0.308  0.001  0.2082 0.4078   True\n",
      "-----------------------------------------------------------------\n"
     ]
    }
   ],
   "source": [
    "from statsmodels.stats.multicomp import pairwise_tukeyhsd\n",
    "\n",
    "# reorganize dataframe to be only one column with a group specified in group_column\n",
    "\n",
    "values = []\n",
    "group = []\n",
    "\n",
    "for (d, g) in zip(data, groups):\n",
    "    values.extend(d)\n",
    "    group.extend(np.repeat(g, len(d)))\n",
    "\n",
    "df = pd.DataFrame({'values': values, 'group': group})\n",
    "\n",
    "# perform multiple pairwise comparison (Tukey HSD)\n",
    "m_comp = pairwise_tukeyhsd(endog=df['values'], groups=df['group'], alpha=0.05)\n",
    "print(m_comp)"
   ]
  },
  {
   "cell_type": "markdown",
   "metadata": {},
   "source": [
    "# Pearson's correlation coefficients (Confocal channels)"
   ]
  },
  {
   "cell_type": "code",
   "execution_count": 2,
   "metadata": {},
   "outputs": [],
   "source": [
    "directory = 'statistics'\n",
    "name = 'pcc.txt'\n",
    "\n",
    "data, groups = find_csv_directories(directory, name)"
   ]
  },
  {
   "cell_type": "code",
   "execution_count": 3,
   "metadata": {},
   "outputs": [],
   "source": [
    "key = 'confocal'\n",
    "\n",
    "pccs_data = read_txt(data, key)"
   ]
  },
  {
   "cell_type": "code",
   "execution_count": 11,
   "metadata": {},
   "outputs": [
    {
     "name": "stdout",
     "output_type": "stream",
     "text": [
      "['poi_laminb', 'negative_ctrl', 'positive_ctrl', 'poi_laminac']\n"
     ]
    },
    {
     "data": {
      "text/html": [
       "<div>\n",
       "<style scoped>\n",
       "    .dataframe tbody tr th:only-of-type {\n",
       "        vertical-align: middle;\n",
       "    }\n",
       "\n",
       "    .dataframe tbody tr th {\n",
       "        vertical-align: top;\n",
       "    }\n",
       "\n",
       "    .dataframe thead th {\n",
       "        text-align: right;\n",
       "    }\n",
       "</style>\n",
       "<table border=\"1\" class=\"dataframe\">\n",
       "  <thead>\n",
       "    <tr style=\"text-align: right;\">\n",
       "      <th></th>\n",
       "      <th>poi_laminb</th>\n",
       "      <th>negative_ctrl</th>\n",
       "      <th>positive_ctrl</th>\n",
       "      <th>poi_laminac</th>\n",
       "    </tr>\n",
       "  </thead>\n",
       "  <tbody>\n",
       "    <tr>\n",
       "      <th>0</th>\n",
       "      <td>0.2633</td>\n",
       "      <td>0.3749</td>\n",
       "      <td>0.9150</td>\n",
       "      <td>0.6398</td>\n",
       "    </tr>\n",
       "    <tr>\n",
       "      <th>1</th>\n",
       "      <td>0.6537</td>\n",
       "      <td>0.3044</td>\n",
       "      <td>0.8890</td>\n",
       "      <td>0.4824</td>\n",
       "    </tr>\n",
       "    <tr>\n",
       "      <th>2</th>\n",
       "      <td>0.5683</td>\n",
       "      <td>0.1416</td>\n",
       "      <td>0.8491</td>\n",
       "      <td>0.3090</td>\n",
       "    </tr>\n",
       "    <tr>\n",
       "      <th>3</th>\n",
       "      <td>0.5891</td>\n",
       "      <td>0.0761</td>\n",
       "      <td>0.8919</td>\n",
       "      <td>0.3025</td>\n",
       "    </tr>\n",
       "    <tr>\n",
       "      <th>4</th>\n",
       "      <td>0.3945</td>\n",
       "      <td>0.1807</td>\n",
       "      <td>0.8852</td>\n",
       "      <td>0.6896</td>\n",
       "    </tr>\n",
       "    <tr>\n",
       "      <th>5</th>\n",
       "      <td>0.6609</td>\n",
       "      <td>0.2092</td>\n",
       "      <td>0.8468</td>\n",
       "      <td>0.5826</td>\n",
       "    </tr>\n",
       "    <tr>\n",
       "      <th>6</th>\n",
       "      <td>0.3608</td>\n",
       "      <td>0.3180</td>\n",
       "      <td>0.8807</td>\n",
       "      <td>0.3025</td>\n",
       "    </tr>\n",
       "    <tr>\n",
       "      <th>7</th>\n",
       "      <td>0.4667</td>\n",
       "      <td>0.3446</td>\n",
       "      <td>0.8379</td>\n",
       "      <td>0.5324</td>\n",
       "    </tr>\n",
       "    <tr>\n",
       "      <th>8</th>\n",
       "      <td>0.4671</td>\n",
       "      <td>0.2425</td>\n",
       "      <td>0.8478</td>\n",
       "      <td>0.7041</td>\n",
       "    </tr>\n",
       "    <tr>\n",
       "      <th>9</th>\n",
       "      <td>0.5644</td>\n",
       "      <td>0.3123</td>\n",
       "      <td>0.9117</td>\n",
       "      <td>0.5874</td>\n",
       "    </tr>\n",
       "    <tr>\n",
       "      <th>10</th>\n",
       "      <td>0.5324</td>\n",
       "      <td>0.3283</td>\n",
       "      <td>0.8312</td>\n",
       "      <td>0.6497</td>\n",
       "    </tr>\n",
       "    <tr>\n",
       "      <th>11</th>\n",
       "      <td>0.4792</td>\n",
       "      <td>0.1537</td>\n",
       "      <td>0.9116</td>\n",
       "      <td>0.6158</td>\n",
       "    </tr>\n",
       "    <tr>\n",
       "      <th>12</th>\n",
       "      <td>0.6385</td>\n",
       "      <td>0.2840</td>\n",
       "      <td>0.8939</td>\n",
       "      <td>0.5342</td>\n",
       "    </tr>\n",
       "    <tr>\n",
       "      <th>13</th>\n",
       "      <td>0.7390</td>\n",
       "      <td>0.3495</td>\n",
       "      <td>0.9001</td>\n",
       "      <td>0.3586</td>\n",
       "    </tr>\n",
       "    <tr>\n",
       "      <th>14</th>\n",
       "      <td>0.4899</td>\n",
       "      <td>0.2360</td>\n",
       "      <td>0.8594</td>\n",
       "      <td>0.6037</td>\n",
       "    </tr>\n",
       "    <tr>\n",
       "      <th>15</th>\n",
       "      <td>0.5965</td>\n",
       "      <td>0.1490</td>\n",
       "      <td>0.8891</td>\n",
       "      <td>0.5091</td>\n",
       "    </tr>\n",
       "  </tbody>\n",
       "</table>\n",
       "</div>"
      ],
      "text/plain": [
       "    poi_laminb  negative_ctrl  positive_ctrl  poi_laminac\n",
       "0       0.2633         0.3749         0.9150       0.6398\n",
       "1       0.6537         0.3044         0.8890       0.4824\n",
       "2       0.5683         0.1416         0.8491       0.3090\n",
       "3       0.5891         0.0761         0.8919       0.3025\n",
       "4       0.3945         0.1807         0.8852       0.6896\n",
       "5       0.6609         0.2092         0.8468       0.5826\n",
       "6       0.3608         0.3180         0.8807       0.3025\n",
       "7       0.4667         0.3446         0.8379       0.5324\n",
       "8       0.4671         0.2425         0.8478       0.7041\n",
       "9       0.5644         0.3123         0.9117       0.5874\n",
       "10      0.5324         0.3283         0.8312       0.6497\n",
       "11      0.4792         0.1537         0.9116       0.6158\n",
       "12      0.6385         0.2840         0.8939       0.5342\n",
       "13      0.7390         0.3495         0.9001       0.3586\n",
       "14      0.4899         0.2360         0.8594       0.6037\n",
       "15      0.5965         0.1490         0.8891       0.5091"
      ]
     },
     "execution_count": 11,
     "metadata": {},
     "output_type": "execute_result"
    }
   ],
   "source": [
    "# sample data\n",
    "print(groups)\n",
    "# index = groups.index('poi')\n",
    "# show each group sample 16 random samples\n",
    "sampled = []\n",
    "for d in pccs_data:\n",
    "    sampled.append(np.random.choice(d, 16, replace=False))\n",
    "\n",
    "# pccs_data[index] = np.random.choice(pccs_data[0], 16, replace=False)\n",
    "\n",
    "# convert data to pandas dataframe with columns names poi, pos, neg, random\n",
    "df = pd.DataFrame(np.array(sampled))\n",
    "df = df.T\n",
    "df.columns = groups\n",
    "df"
   ]
  },
  {
   "cell_type": "code",
   "execution_count": 12,
   "metadata": {},
   "outputs": [],
   "source": [
    "# save new csv with only means\n",
    "df.to_csv('statistics/pccs_sampled_confocal.csv')"
   ]
  },
  {
   "cell_type": "code",
   "execution_count": 13,
   "metadata": {},
   "outputs": [
    {
     "data": {
      "image/png": "[encoded data removed]",
      "text/plain": [
       "<Figure size 432x288 with 1 Axes>"
      ]
     },
     "metadata": {
      "needs_background": "light"
     },
     "output_type": "display_data"
    }
   ],
   "source": [
    " # plot boxplot of pccs with labels poi, pos, neg\n",
    "sns.boxplot(data=df, palette=(\"Set2\"))\n",
    "sns.stripplot(data=df, color='black', size=3, alpha=0.5)\n",
    "plt.ylabel('PCC for confocal channels')\n",
    "plt.savefig('PCC_for_confocal_channels.png')\n",
    "plt.show()"
   ]
  },
  {
   "cell_type": "markdown",
   "metadata": {},
   "source": [
    "### One-way ANOVA"
   ]
  },
  {
   "cell_type": "code",
   "execution_count": 15,
   "metadata": {},
   "outputs": [
    {
     "name": "stdout",
     "output_type": "stream",
     "text": [
      "f-value is 97.97016422051038, p_value is 4.3172091977611246e-23\n"
     ]
    }
   ],
   "source": [
    "import scipy.stats as stats\n",
    "# stats f_oneway functions takes the groups as input and returns ANOVA F and p value\n",
    "fvalue, pvalue = stats.f_oneway(df['poi_laminb'], df['positive_ctrl'], df['negative_ctrl'], df['poi_laminac'])\n",
    "print(f'f-value is {fvalue}, p_value is {pvalue}')"
   ]
  },
  {
   "cell_type": "markdown",
   "metadata": {},
   "source": [
    "### Multiple comparisons using Tukey's HSD test"
   ]
  },
  {
   "cell_type": "code",
   "execution_count": 16,
   "metadata": {},
   "outputs": [
    {
     "name": "stdout",
     "output_type": "stream",
     "text": [
      "      Multiple Comparison of Means - Tukey HSD, FWER=0.05       \n",
      "================================================================\n",
      "    group1        group2    meandiff p-adj  lower  upper  reject\n",
      "----------------------------------------------------------------\n",
      "negative_ctrl   poi_laminac   0.2882 0.001  0.2027 0.3736   True\n",
      "negative_ctrl    poi_laminb   0.2787 0.001   0.179 0.3784   True\n",
      "negative_ctrl positive_ctrl   0.6272 0.001  0.5276 0.7269   True\n",
      "  poi_laminac    poi_laminb  -0.0095   0.9 -0.0949  0.076  False\n",
      "  poi_laminac positive_ctrl   0.3391 0.001  0.2536 0.4245   True\n",
      "   poi_laminb positive_ctrl   0.3485 0.001  0.2488 0.4482   True\n",
      "----------------------------------------------------------------\n"
     ]
    }
   ],
   "source": [
    "from statsmodels.stats.multicomp import pairwise_tukeyhsd\n",
    "\n",
    "# reorganize dataframe to be only one column with a group specified in group_column\n",
    "\n",
    "values = []\n",
    "group = []\n",
    "\n",
    "for (d, g) in zip(pccs_data, groups):\n",
    "    values.extend(d)\n",
    "    group.extend(np.repeat(g, len(d)))\n",
    "\n",
    "df = pd.DataFrame({'values': values, 'group': group})\n",
    "\n",
    "# perform multiple pairwise comparison (Tukey HSD)\n",
    "m_comp = pairwise_tukeyhsd(endog=df['values'], groups=df['group'], alpha=0.05)\n",
    "print(m_comp)"
   ]
  },
  {
   "cell_type": "markdown",
   "metadata": {},
   "source": [
    "# Pearson's correlation coefficients (STED channels)"
   ]
  },
  {
   "cell_type": "code",
   "execution_count": 17,
   "metadata": {},
   "outputs": [],
   "source": [
    "directory = 'statistics'\n",
    "name = 'pcc.txt'\n",
    "\n",
    "data, groups = find_csv_directories(directory, name)"
   ]
  },
  {
   "cell_type": "code",
   "execution_count": 18,
   "metadata": {},
   "outputs": [],
   "source": [
    "key = 'STED'\n",
    "\n",
    "pccs_data = read_txt(data, key)"
   ]
  },
  {
   "cell_type": "code",
   "execution_count": 19,
   "metadata": {},
   "outputs": [
    {
     "data": {
      "text/html": [
       "<div>\n",
       "<style scoped>\n",
       "    .dataframe tbody tr th:only-of-type {\n",
       "        vertical-align: middle;\n",
       "    }\n",
       "\n",
       "    .dataframe tbody tr th {\n",
       "        vertical-align: top;\n",
       "    }\n",
       "\n",
       "    .dataframe thead th {\n",
       "        text-align: right;\n",
       "    }\n",
       "</style>\n",
       "<table border=\"1\" class=\"dataframe\">\n",
       "  <thead>\n",
       "    <tr style=\"text-align: right;\">\n",
       "      <th></th>\n",
       "      <th>poi_laminb</th>\n",
       "      <th>negative_ctrl</th>\n",
       "      <th>positive_ctrl</th>\n",
       "      <th>poi_laminac</th>\n",
       "    </tr>\n",
       "  </thead>\n",
       "  <tbody>\n",
       "    <tr>\n",
       "      <th>0</th>\n",
       "      <td>0.1351</td>\n",
       "      <td>0.1718</td>\n",
       "      <td>0.6870</td>\n",
       "      <td>0.1190</td>\n",
       "    </tr>\n",
       "    <tr>\n",
       "      <th>1</th>\n",
       "      <td>0.2271</td>\n",
       "      <td>0.2613</td>\n",
       "      <td>0.5115</td>\n",
       "      <td>0.2229</td>\n",
       "    </tr>\n",
       "    <tr>\n",
       "      <th>2</th>\n",
       "      <td>0.1420</td>\n",
       "      <td>0.1493</td>\n",
       "      <td>0.7362</td>\n",
       "      <td>0.1122</td>\n",
       "    </tr>\n",
       "    <tr>\n",
       "      <th>3</th>\n",
       "      <td>0.1599</td>\n",
       "      <td>0.1893</td>\n",
       "      <td>0.5577</td>\n",
       "      <td>0.0906</td>\n",
       "    </tr>\n",
       "    <tr>\n",
       "      <th>4</th>\n",
       "      <td>0.1989</td>\n",
       "      <td>0.1312</td>\n",
       "      <td>0.6868</td>\n",
       "      <td>0.1643</td>\n",
       "    </tr>\n",
       "    <tr>\n",
       "      <th>5</th>\n",
       "      <td>0.0366</td>\n",
       "      <td>0.2302</td>\n",
       "      <td>0.6688</td>\n",
       "      <td>0.2049</td>\n",
       "    </tr>\n",
       "    <tr>\n",
       "      <th>6</th>\n",
       "      <td>0.1174</td>\n",
       "      <td>0.2863</td>\n",
       "      <td>0.5732</td>\n",
       "      <td>0.5742</td>\n",
       "    </tr>\n",
       "    <tr>\n",
       "      <th>7</th>\n",
       "      <td>0.2576</td>\n",
       "      <td>0.2018</td>\n",
       "      <td>0.6336</td>\n",
       "      <td>0.2660</td>\n",
       "    </tr>\n",
       "    <tr>\n",
       "      <th>8</th>\n",
       "      <td>0.2666</td>\n",
       "      <td>0.2913</td>\n",
       "      <td>0.6918</td>\n",
       "      <td>0.0906</td>\n",
       "    </tr>\n",
       "    <tr>\n",
       "      <th>9</th>\n",
       "      <td>0.1885</td>\n",
       "      <td>0.1699</td>\n",
       "      <td>0.6779</td>\n",
       "      <td>0.2707</td>\n",
       "    </tr>\n",
       "    <tr>\n",
       "      <th>10</th>\n",
       "      <td>0.0891</td>\n",
       "      <td>0.1612</td>\n",
       "      <td>0.5951</td>\n",
       "      <td>0.4045</td>\n",
       "    </tr>\n",
       "    <tr>\n",
       "      <th>11</th>\n",
       "      <td>0.1224</td>\n",
       "      <td>0.1077</td>\n",
       "      <td>0.6667</td>\n",
       "      <td>0.1493</td>\n",
       "    </tr>\n",
       "    <tr>\n",
       "      <th>12</th>\n",
       "      <td>0.1740</td>\n",
       "      <td>0.2067</td>\n",
       "      <td>0.4543</td>\n",
       "      <td>0.1551</td>\n",
       "    </tr>\n",
       "    <tr>\n",
       "      <th>13</th>\n",
       "      <td>0.1411</td>\n",
       "      <td>0.2197</td>\n",
       "      <td>0.5956</td>\n",
       "      <td>0.2021</td>\n",
       "    </tr>\n",
       "    <tr>\n",
       "      <th>14</th>\n",
       "      <td>0.0721</td>\n",
       "      <td>0.2280</td>\n",
       "      <td>0.5239</td>\n",
       "      <td>0.1187</td>\n",
       "    </tr>\n",
       "    <tr>\n",
       "      <th>15</th>\n",
       "      <td>0.1417</td>\n",
       "      <td>0.1217</td>\n",
       "      <td>0.5524</td>\n",
       "      <td>0.3515</td>\n",
       "    </tr>\n",
       "  </tbody>\n",
       "</table>\n",
       "</div>"
      ],
      "text/plain": [
       "    poi_laminb  negative_ctrl  positive_ctrl  poi_laminac\n",
       "0       0.1351         0.1718         0.6870       0.1190\n",
       "1       0.2271         0.2613         0.5115       0.2229\n",
       "2       0.1420         0.1493         0.7362       0.1122\n",
       "3       0.1599         0.1893         0.5577       0.0906\n",
       "4       0.1989         0.1312         0.6868       0.1643\n",
       "5       0.0366         0.2302         0.6688       0.2049\n",
       "6       0.1174         0.2863         0.5732       0.5742\n",
       "7       0.2576         0.2018         0.6336       0.2660\n",
       "8       0.2666         0.2913         0.6918       0.0906\n",
       "9       0.1885         0.1699         0.6779       0.2707\n",
       "10      0.0891         0.1612         0.5951       0.4045\n",
       "11      0.1224         0.1077         0.6667       0.1493\n",
       "12      0.1740         0.2067         0.4543       0.1551\n",
       "13      0.1411         0.2197         0.5956       0.2021\n",
       "14      0.0721         0.2280         0.5239       0.1187\n",
       "15      0.1417         0.1217         0.5524       0.3515"
      ]
     },
     "execution_count": 19,
     "metadata": {},
     "output_type": "execute_result"
    }
   ],
   "source": [
    "# sample data\n",
    "# index = groups.index('poi')\n",
    "# pccs_data[index] = np.random.choice(pccs_data[0], 16, replace=False)\n",
    "\n",
    "sampled = []\n",
    "for d in pccs_data:\n",
    "    sampled.append(np.random.choice(d, 16, replace=False))\n",
    "\n",
    "# convert data to pandas dataframe with columns names poi, pos, neg, random\n",
    "df = pd.DataFrame(np.array(sampled))\n",
    "df = df.T\n",
    "df.columns = groups\n",
    "df"
   ]
  },
  {
   "cell_type": "code",
   "execution_count": 20,
   "metadata": {},
   "outputs": [],
   "source": [
    "# save new csv with only means\n",
    "df.to_csv('statistics/pccs_sampled_STED.csv')"
   ]
  },
  {
   "cell_type": "code",
   "execution_count": 21,
   "metadata": {},
   "outputs": [
    {
     "data": {
      "image/png": "[encoded data removed]",
      "text/plain": [
       "<Figure size 432x288 with 1 Axes>"
      ]
     },
     "metadata": {
      "needs_background": "light"
     },
     "output_type": "display_data"
    }
   ],
   "source": [
    " # plot boxplot of pccs with labels poi, pos, neg\n",
    "sns.boxplot(data=df, palette=(\"Set2\"))\n",
    "sns.stripplot(data=df, color='black', size=3, alpha=0.5)\n",
    "plt.ylabel('PCC for STED channels')\n",
    "plt.savefig('PCC_for_STED_channels.png')\n",
    "plt.show()\n"
   ]
  },
  {
   "cell_type": "markdown",
   "metadata": {},
   "source": [
    "### One-way ANOVA"
   ]
  },
  {
   "cell_type": "code",
   "execution_count": 23,
   "metadata": {},
   "outputs": [
    {
     "name": "stdout",
     "output_type": "stream",
     "text": [
      "f-value is 94.76095927367466, p_value is 9.848005675617049e-23\n"
     ]
    }
   ],
   "source": [
    "import scipy.stats as stats\n",
    "# stats f_oneway functions takes the groups as input and returns ANOVA F and p value\n",
    "fvalue, pvalue = stats.f_oneway(df['poi_laminb'], df['positive_ctrl'], df['negative_ctrl'], df['poi_laminac'])\n",
    "print(f'f-value is {fvalue}, p_value is {pvalue}')"
   ]
  },
  {
   "cell_type": "markdown",
   "metadata": {},
   "source": [
    "### Multiple comparisons using Tukey's HSD test"
   ]
  },
  {
   "cell_type": "code",
   "execution_count": 24,
   "metadata": {},
   "outputs": [
    {
     "name": "stdout",
     "output_type": "stream",
     "text": [
      "       Multiple Comparison of Means - Tukey HSD, FWER=0.05        \n",
      "==================================================================\n",
      "    group1        group2    meandiff p-adj   lower   upper  reject\n",
      "------------------------------------------------------------------\n",
      "negative_ctrl   poi_laminac   0.0146    0.9 -0.0557  0.0849  False\n",
      "negative_ctrl    poi_laminb  -0.0479 0.3006 -0.1191  0.0233  False\n",
      "negative_ctrl positive_ctrl   0.4178  0.001  0.3348  0.5009   True\n",
      "  poi_laminac    poi_laminb  -0.0625 0.0217 -0.1183 -0.0067   True\n",
      "  poi_laminac positive_ctrl   0.4032  0.001  0.3329  0.4735   True\n",
      "   poi_laminb positive_ctrl   0.4657  0.001  0.3945  0.5369   True\n",
      "------------------------------------------------------------------\n"
     ]
    }
   ],
   "source": [
    "from statsmodels.stats.multicomp import pairwise_tukeyhsd\n",
    "\n",
    "# reorganize dataframe to be only one column with a group specified in group_column\n",
    "\n",
    "values = []\n",
    "group = []\n",
    "\n",
    "for (d, g) in zip(pccs_data, groups):\n",
    "    values.extend(d)\n",
    "    group.extend(np.repeat(g, len(d)))\n",
    "\n",
    "df = pd.DataFrame({'values': values, 'group': group})\n",
    "\n",
    "# perform multiple pairwise comparison (Tukey HSD)\n",
    "m_comp = pairwise_tukeyhsd(endog=df['values'], groups=df['group'], alpha=0.05)\n",
    "print(m_comp)"
   ]
  },
  {
   "cell_type": "code",
   "execution_count": null,
   "metadata": {},
   "outputs": [],
   "source": []
  }
 ],
 "metadata": {
  "kernelspec": {
   "display_name": "Python 3 (ipykernel)",
   "language": "python",
   "name": "python3"
  },
  "language_info": {
   "codemirror_mode": {
    "name": "ipython",
    "version": 3
   },
   "file_extension": ".py",
   "mimetype": "text/x-python",
   "name": "python",
   "nbconvert_exporter": "python",
   "pygments_lexer": "ipython3",
   "version": "3.9.13"
  },
  "vscode": {
   "interpreter": {
    "hash": "b965bd67d9cba1120c281524f838e6b56272d9c1582af45ad4c5891b219c82d2"
   }
  }
 },
 "nbformat": 4,
 "nbformat_minor": 2
}
